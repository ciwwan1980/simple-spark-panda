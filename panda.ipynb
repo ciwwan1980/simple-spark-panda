{
 "cells": [
  {
   "cell_type": "code",
   "execution_count": 2,
   "metadata": {},
   "outputs": [],
   "source": [
    "import pandas as pd"
   ]
  },
  {
   "cell_type": "code",
   "execution_count": 6,
   "metadata": {},
   "outputs": [
    {
     "name": "stdout",
     "output_type": "stream",
     "text": [
      "    name  age           city\n",
      "0   John   25       New York\n",
      "1  Alice   30  San Francisco\n",
      "2    Bob   22        Seattle\n"
     ]
    }
   ],
   "source": [
    "df = pd.read_json(\"input.json\")\n",
    "\n",
    "# Assuming 'output.csv' is your desired CSV file\n",
    "\n",
    "#     {\"name\": \"John\", \"age\": 25, \"city\": \"New York\"},\n",
    "#     {\"name\": \"Alice\", \"age\": 30, \"city\": \"San Francisco\"},\n",
    "#     {\"name\": \"Bob\", \"age\": 22, \"city\": \"Seattle\"}\n",
    "# ]\n",
    "df.to_csv('output.csv', index=False)\n",
    "print(df)"
   ]
  }
 ],
 "metadata": {
  "kernelspec": {
   "display_name": "venv",
   "language": "python",
   "name": "python3"
  },
  "language_info": {
   "codemirror_mode": {
    "name": "ipython",
    "version": 3
   },
   "file_extension": ".py",
   "mimetype": "text/x-python",
   "name": "python",
   "nbconvert_exporter": "python",
   "pygments_lexer": "ipython3",
   "version": "3.8.10"
  }
 },
 "nbformat": 4,
 "nbformat_minor": 2
}
